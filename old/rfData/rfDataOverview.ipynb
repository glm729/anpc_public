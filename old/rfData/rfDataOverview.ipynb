{
 "cells": [
  {
   "cell_type": "markdown",
   "metadata": {},
   "source": [
    "# Literature Search and KEGG Compound:  Reformatting Data\n",
    "#### Mr. George L. Malone\n",
    "#### 8<sup>th</sup> of December, 2020\n",
    "\n",
    "### Contents\n",
    "1.  Purpose\n",
    "2.  Overview\n",
    "3.  Notebook 1\n",
    "4.  Notebook 2\n"
   ]
  },
  {
   "cell_type": "markdown",
   "metadata": {},
   "source": [
    "## Purpose\n",
    "\n",
    "The purpose of the scripts documented here is to reformat the data contained in KEGG Compound, for the purpose of faster querying of KEGG Compound data relevant to chemical names identified in a literature search.\n"
   ]
  },
  {
   "cell_type": "markdown",
   "metadata": {},
   "source": [
    "## Overview\n",
    "\n",
    "The critical outcomes of these operations are the restructuring or reformatting of KEGG Compound data, as retrieved from the KEGG REST API via the `KEGGREST` package (via BioConductor) in *R*.  The input in most cases is and RData object containing data for 8810 compounds, as provided in KEGG Compound via `KEGGREST`, but other operations to reformat or query the KEGG Compound data with specific regard to the literature data will also make direct use of the recorded data from literature.\n"
   ]
  },
  {
   "cell_type": "markdown",
   "metadata": {},
   "source": [
    "## Notebook 1:  Restructuring literature data\n",
    "\n",
    "This notebook describes the scripts used to reformat the spreadsheet containing the information entered given a literature search.  The main purpose of reformatting these data is to reduce the information to a certain set of variables, such as name, regulation direction, and DOI in which the data are found.  This is to allow for faster retrieval/traversal of commonly used data, and generally to allow querying or reading in languages other than *R*.\n"
   ]
  },
  {
   "cell_type": "markdown",
   "metadata": {},
   "source": [
    "## Notebook 2:  Restructuring KEGG Compound data\n",
    "\n",
    "_Coming soon_"
   ]
  }
 ],
 "metadata": {
  "kernelspec": {
   "display_name": "R",
   "language": "R",
   "name": "ir"
  },
  "language_info": {
   "codemirror_mode": "r",
   "file_extension": ".r",
   "mimetype": "text/x-r-source",
   "name": "R",
   "pygments_lexer": "r",
   "version": "3.6.3"
  }
 },
 "nbformat": 4,
 "nbformat_minor": 4
}
