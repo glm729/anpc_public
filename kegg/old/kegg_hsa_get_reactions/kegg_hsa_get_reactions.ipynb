{
 "cells": [
  {
   "cell_type": "markdown",
   "metadata": {},
   "source": [
    "# KEGG: Get all HSA-associated reactions\n",
    "### George L. Malone\n",
    "\n",
    "### Contents\n",
    "1. Overview\n",
    "2. Function definitions\n",
    "3. Typical operations"
   ]
  },
  {
   "cell_type": "markdown",
   "metadata": {},
   "source": [
    "## 1. Overview\n",
    "\n",
    "##### Task\n",
    "The task was to collect all reactions associated with the H. sapiens system. The method required was to imitate the route used by the MATLAB package [MetaboNetworks](https://au.mathworks.com/matlabcentral/fileexchange/42684-metabonetworks), but implemented in *R*, using the [`KEGGREST` package](https://bioconductor.org/packages/release/bioc/html/KEGGREST.html);\n",
    "- Given an organism ID;\n",
    "  1. Extract all enzymes.\n",
    "  2. Extract all reactions.\n",
    "\n",
    "##### Progress\n",
    "In its current state, the *R* functions are able to;\n",
    "- extract all enzymes given an organism ID\n",
    "- extract all associated reactions\n",
    "- return a sorted list of unique reactions\n",
    "\n",
    "##### Notes and comments\n",
    "- `roxygen2`-style documentation is included for each function definition.\n",
    "- `split_to_n` has been mildly updated from its original state for inclusion in this document.\n",
    "- The cause of greatest computation time appears to be the function `get_enzymedetails_from_enzymelist`, as it's making a large number of requests to KEGG.\n",
    "- The output of this set of functions could be sent to functions created previously, such that all compounds can be extracted from the list of reactions.\n",
    "  - In essence, these functions theoretically provide a more comprehensive method to collect data on all reactions relating to the H. sapiens metabolism.\n",
    "- The operations have not been tested on the entire enzyme list, only on a non-random sample of 40."
   ]
  },
  {
   "cell_type": "markdown",
   "metadata": {},
   "source": [
    "## 2. Function definitions\n",
    "\n",
    "Provided below are function definitions for those used in operations.\n",
    "\n",
    "In order of appearance;\n",
    "- `split_to_n`\n",
    "- `get_enzymedetails_from_enzymelist`\n",
    "- `get_allreac_from_enzymedetails`"
   ]
  },
  {
   "cell_type": "markdown",
   "metadata": {},
   "source": [
    "`split_to_n`: Splits an object of arbitrary length into groups of size *n*. Required for use in the function `get_enzymedetails_from_enzymelist`, to reduce the number of KEGG REST API requests from `length(enzymelist)` to `ceiling(length(enzymelist) / 10)`."
   ]
  },
  {
   "cell_type": "code",
   "execution_count": null,
   "metadata": {},
   "outputs": [],
   "source": [
    "#' Given a vector, split this into a list of entries of group size n.\n",
    "#' @param obj Vector to split.\n",
    "#' @param n Size to split vector by.\n",
    "#' @return List containing elements of `obj`, in groups of `n`.\n",
    "split_to_n <- function(obj, n) {\n",
    "    ## Initialise list index and marker;\n",
    "    k <- 1\n",
    "    marker <- 0\n",
    "    ## Prepare the empty list;\n",
    "    split <- vector(mode = 'list', length = ceiling(length(obj) / n))\n",
    "    ## Loop over the object;\n",
    "    for (i in seq_along(obj)) {\n",
    "        ## Add to the list;\n",
    "        split[[k]] <- append(split[[k]], obj[i])\n",
    "        ## Iterate marker;\n",
    "        marker <- marker + 1\n",
    "        ## If marker at n, iterate k and reset marker;\n",
    "        if (marker == n) {\n",
    "            k <- k + 1\n",
    "            marker <- 0\n",
    "        }\n",
    "    }\n",
    "    ## Return the list;\n",
    "    return(split)\n",
    "}"
   ]
  },
  {
   "cell_type": "markdown",
   "metadata": {},
   "source": [
    "`get_enzymedetails_from_enzymelist`: Extracts the details of enzymes, given a list of their IDs. The enzyme ID list can be found as shown in Section 3."
   ]
  },
  {
   "cell_type": "code",
   "execution_count": null,
   "metadata": {},
   "outputs": [],
   "source": [
    "#' Given a list of KEGG Enzyme IDs, extract the enzyme details.\n",
    "#' @param enzymelist Character vector of enzyme IDs.\n",
    "#' @return List containing all unique enzyme data from the enzyme ID list.\n",
    "get_enzymedetails_from_enzymelist <- function(enzymelist) {\n",
    "    source(\"./split_to_n.R\")  # Requires this.\n",
    "    enzymelist_spl <- split_to_n(sort(unique(enzymelist)), 10L)\n",
    "    return(unlist(\n",
    "        lapply(enzymelist_spl, function(x) { KEGGREST::keggGet(x) }),\n",
    "        recursive = FALSE\n",
    "    ))\n",
    "}"
   ]
  },
  {
   "cell_type": "markdown",
   "metadata": {},
   "source": [
    "`get_allreac_from_enzymedetails`: Extracts all reactions from a list of enzyme details. The list of enzyme details should come from `get_enzymedetails_from_enzymelist`."
   ]
  },
  {
   "cell_type": "code",
   "execution_count": null,
   "metadata": {},
   "outputs": [],
   "source": [
    "#' Given a list of enzymes, extract all reactions.\n",
    "#' @param enzymedetails List of enzyme details. Each element is an enzyme.\n",
    "#' @return Sorted, unique character vector of KEGG reaction IDs found.\n",
    "get_allreac_from_enzymedetails <- function(enzymedetails) {\n",
    "    allreac_raw <- unlist(lapply(enzymedetails, function(x) { x$ALL_REAC }))\n",
    "    allreac_spl <- unlist(strsplit(allreac_raw, \" \"))\n",
    "    clean <- sapply(\n",
    "        allreac_spl,\n",
    "        function(x) { gsub(\"[^R0-9]\", '', x, perl = TRUE) }\n",
    "    )\n",
    "    return(sort(unique(clean[which(clean != '')])))\n",
    "}"
   ]
  },
  {
   "cell_type": "markdown",
   "metadata": {},
   "source": [
    "## 3. Typical operations\n",
    "\n",
    "The following code block gives an example of the intended usage of the functions provided in the previous segment."
   ]
  },
  {
   "cell_type": "code",
   "execution_count": null,
   "metadata": {},
   "outputs": [],
   "source": [
    "## Set working directory and check for package requirements.\n",
    "setwd(\"~/\")  # Change to preferred directory.\n",
    "if (!require(\"KEGGREST\", quietly = TRUE)) { stop(\"KEGGREST is required.\") }\n",
    "source(\"./split_to_n.R\")\n",
    "\n",
    "## Begin ops.\n",
    "\n",
    "## Get the enzyme list.\n",
    "enzymelist <- sort(unique(KEGGREST::keggLink(\"enzyme\", \"hsa\")))\n",
    "\n",
    "## Get the enzyme details.\n",
    "enzymedetails <- get_enzymedetails_from_enzymelist(enzymelist)\n",
    "\n",
    "## Extract the reactions.\n",
    "allreac <- get_allreac_from_enzymedetails(enzymedetails)\n",
    "\n",
    "## End ops."
   ]
  }
 ],
 "metadata": {
  "kernelspec": {
   "display_name": "R",
   "language": "R",
   "name": "ir"
  },
  "language_info": {
   "codemirror_mode": "r",
   "file_extension": ".r",
   "mimetype": "text/x-r-source",
   "name": "R",
   "pygments_lexer": "r",
   "version": "4.0.2"
  }
 },
 "nbformat": 4,
 "nbformat_minor": 4
}
