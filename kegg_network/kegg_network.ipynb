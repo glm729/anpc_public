{
 "cells": [
  {
   "cell_type": "markdown",
   "metadata": {},
   "source": [
    "# KEGG: Create network from list of reaction IDs\n",
    "### George L. Malone\n",
    "\n",
    "### Contents\n",
    "1. Overview\n",
    "2. Functions\n",
    "3. Typical operations\n",
    "4. Example output"
   ]
  },
  {
   "cell_type": "markdown",
   "metadata": {},
   "source": [
    "## 1. Overview\n",
    "\n",
    "##### Task\n",
    "\n",
    "The task was to build a network of compounds, as listed in KEGG, using the [KEGGREST package](https://bioconductor.org/packages/release/bioc/html/KEGGREST.html) in *R*;\n",
    "- Given a set of reactions, extract all compounds.\n",
    "- Draw arc between compounds whereby one compound opposes the other in the reaction.\n",
    "  - That is, if the compound is on the opposite side of the reaction equation, an arc is drawn.\n",
    "- An extension of a previous task, whereby all reactions are extracted from a given organism ID (see [`kegg_hsa_reactions`](https://github.com/glm729/anpc_public/blob/master/kegg_hsa_get_reactions/kegg_hsa_get_reactions.ipynb)).\n",
    "\n",
    "##### Progress\n",
    "- Completed main functions for requesting reaction data, extracting a list of opposing compounds, building an adjacency list, and building an adjacency matrix.\n",
    "\n",
    "##### Notes and comments\n",
    "- The main *R* functions were produced for previous work, but have been documented and adapted for this task.\n",
    "- The function `split_to_n` has been documented previously, and is not documented here."
   ]
  },
  {
   "cell_type": "markdown",
   "metadata": {},
   "source": [
    "## 2. Functions\n",
    "\n",
    "Provided below are function definitions for those used in the operations regarding extraction of reaction data, construction of a list of opposing compounds, construction of an adjacency list, and construction of an adjacency matrix.\n",
    "\n",
    "In order of appearance;\n",
    "\n",
    "- `get_reactions`\n",
    "- `get_oppose`\n",
    "- `get_adjacent`\n",
    "- `build_adjacency_matrix`"
   ]
  },
  {
   "cell_type": "markdown",
   "metadata": {},
   "source": [
    "`get_reactions`: Retrieves data of reactions from KEGG, given a vector of KEGG reaction IDs."
   ]
  },
  {
   "cell_type": "code",
   "execution_count": null,
   "metadata": {},
   "outputs": [],
   "source": [
    "#' Given a character vector of KEGG reaction IDs, extract the data.\n",
    "#' @param reaction_ids Character vector of KEGG reaction IDs.\n",
    "#' @return List of KEGG reaction data.\n",
    "get_reactions <- function(reaction_ids) {\n",
    "    source(\"./split_to_n.R\")  # Required.\n",
    "    reaction_ids_grouped <- split_to_n(reaction_ids, 10)\n",
    "    return(unlist(\n",
    "        lapply(reaction_ids_grouped, function(reaction_group) {\n",
    "            KEGGREST::keggGet(reaction_group)\n",
    "        }),\n",
    "        recursive = FALSE\n",
    "    ))\n",
    "}"
   ]
  },
  {
   "cell_type": "markdown",
   "metadata": {},
   "source": [
    "`get_oppose`: Construct a vector of opposing compounds, given a list of reaction data."
   ]
  },
  {
   "cell_type": "code",
   "execution_count": null,
   "metadata": {},
   "outputs": [],
   "source": [
    "#' Given a list of reactions data, extract a list of opposing compounds.\n",
    "#' @param reactions List of reactions data.\n",
    "#' @return List of opposing compounds.\n",
    "get_oppose <- function(reactions) {\n",
    "    ## Pull out and split the equations;\n",
    "    eqns <- strsplit(\n",
    "        as.character(lapply(reactions, function(x) { x$EQUATION })),\n",
    "        '>'\n",
    "    )\n",
    "    ## Return the neatened split;\n",
    "    return(lapply(eqns, function(x) {\n",
    "        lhs <- strsplit(x[[1]], ' ')[[1]]\n",
    "        rhs <- strsplit(x[[2]], ' ')[[1]]\n",
    "        return(list(\n",
    "            'lhs' = lhs[which(grepl('^C', lhs, perl = TRUE))],\n",
    "            'rhs' = rhs[which(grepl('^C', rhs, perl = TRUE))]\n",
    "        ))\n",
    "    }))\n",
    "}"
   ]
  },
  {
   "cell_type": "markdown",
   "metadata": {},
   "source": [
    "`get_adjacent`: Construct an adjacency list, given a list of opposing compounds."
   ]
  },
  {
   "cell_type": "code",
   "execution_count": null,
   "metadata": {},
   "outputs": [],
   "source": [
    "#' Given a list of opposing compounds, construct an adjacency list.\n",
    "#' @param oppose List of opposing compounds.\n",
    "#' @return Adjacency list in matrix form.\n",
    "get_adjacent <- function(oppose) {\n",
    "    base <- lapply(oppose, function(x) {\n",
    "        ret <- matrix(ncol = 2)\n",
    "        ## Couldn't think of a better way to do this one;\n",
    "        for (i in x$lhs) {\n",
    "            for (j in x$rhs) {\n",
    "                ret <- rbind(ret, c(i, j))\n",
    "            }\n",
    "        }\n",
    "        return(matrix(ret[which(!is.na(ret))], ncol = 2))\n",
    "    })\n",
    "    over <- matrix(ncol = 2)\n",
    "    for (mat in base) { over <- rbind(over, mat) }\n",
    "    return(matrix(over[which(!is.na(over))], ncol = 2))\n",
    "}"
   ]
  },
  {
   "cell_type": "markdown",
   "metadata": {},
   "source": [
    "`build_adjacency_matrix`: Construct an adjacency matrix, given an adjacency list. The adjacency list is assumed to have come from `get_adjacent`."
   ]
  },
  {
   "cell_type": "code",
   "execution_count": null,
   "metadata": {},
   "outputs": [],
   "source": [
    "#' Given an adjacency list in matrix form, construct an adjacency matrix.\n",
    "#' @param adjacency_list The matrix-form adjacency list.\n",
    "#' @return Adjacency matrix of compounds present in the adjacency list.\n",
    "build_adjacency_matrix <- function(adjacency_list) {\n",
    "    compounds <- sort(unique(c(adjacency_list)))\n",
    "    result <- matrix(\n",
    "        0,\n",
    "        nrow = length(compounds),\n",
    "        ncol = length(compounds),\n",
    "        dimnames = list(compounds, compounds)\n",
    "    )\n",
    "    for (i in seq_len(nrow(adjacency_list))) {\n",
    "        result[adjacency_list[i, 1], adjacency_list[i, 2]] <- 1\n",
    "    }\n",
    "    diag(result) <- 0\n",
    "    return(result)\n",
    "}"
   ]
  },
  {
   "cell_type": "markdown",
   "metadata": {},
   "source": [
    "## 3. Typical operations\n",
    "\n",
    "The following code block provides an example of the intended usage of the functions defined in the previous Section."
   ]
  },
  {
   "cell_type": "code",
   "execution_count": null,
   "metadata": {},
   "outputs": [],
   "source": [
    "## Improved KEGG map builder.\n",
    "\n",
    "## Check requirements;\n",
    "if (!require(KEGGREST, quietly = TRUE)) { stop('KEGGREST is required') }\n",
    "if (!require(igraph, quietly = TRUE)) { stop('igraph is required') }\n",
    "\n",
    "## Set the working directory;\n",
    "setwd('~/')  # Change the path as required.\n",
    "\n",
    "## Load in, or otherwise get, the reaction IDs;\n",
    "load('./reaction_ids.RData')\n",
    "\n",
    "## Functions to source;\n",
    "source_list <- c(\n",
    "    'build_adjacency_matrix.R',\n",
    "    'get_adjacent.R',\n",
    "    'get_oppose.R',\n",
    "    'get_reactions.R',\n",
    "    'split_to_n.R'\n",
    ")\n",
    "\n",
    "## Source the functions and remove the temporary variable;\n",
    "for (src in source_list) { source(paste0(getwd(), '/', src)) }; rm(src)\n",
    "\n",
    "## Retrieve reaction data from the list of reaction IDs.\n",
    "reactions <- get_reactions(reaction_ids)\n",
    "\n",
    "## Construct the list of opposing compounds;\n",
    "oppose <- get_oppose(reactions)\n",
    "\n",
    "## Construct the adjacency list;\n",
    "adjacency_list <- get_adjacent(oppose)\n",
    "\n",
    "## Build the adjacency matrix, and ensure there are no loops;\n",
    "adjacency_matrix <- build_adjacency_matrix(adjacency_list)\n",
    "diag(adjacency_matrix) <- 0\n",
    "\n",
    "## Build the graph, using igraph;\n",
    "graph <- igraph::graph_from_adjacency_matrix(\n",
    "    adjacency_matrix,\n",
    "    mode = 'undirected'\n",
    ")\n",
    "\n",
    "## Layout with simulated annealing (computationally a bit heavy);\n",
    "layout <- igraph::layout_with_dh(graph)\n",
    "\n",
    "## Plot the graph;\n",
    "plot(\n",
    "    graph,\n",
    "    vertex.size = 2,\n",
    "    vertex.label = NA,\n",
    "    layout = layout\n",
    ")"
   ]
  },
  {
   "cell_type": "markdown",
   "metadata": {},
   "source": [
    "## 4. Example output\n",
    "\n",
    "The image attached below is some example output from producing a graph of the pathway `hsa01100`, using the code provided in this document."
   ]
  },
  {
   "cell_type": "markdown",
   "metadata": {},
   "source": [
    " ![hsa01100_example](hsa01100_example.png)"
   ]
  }
 ],
 "metadata": {
  "kernelspec": {
   "display_name": "R",
   "language": "R",
   "name": "ir"
  },
  "language_info": {
   "codemirror_mode": "r",
   "file_extension": ".r",
   "mimetype": "text/x-r-source",
   "name": "R",
   "pygments_lexer": "r",
   "version": "4.0.2"
  }
 },
 "nbformat": 4,
 "nbformat_minor": 4
}
